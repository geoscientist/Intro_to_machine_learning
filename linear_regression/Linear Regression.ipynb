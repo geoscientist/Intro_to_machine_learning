{
 "cells": [
  {
   "cell_type": "code",
   "execution_count": 1,
   "metadata": {
    "collapsed": true
   },
   "outputs": [],
   "source": [
    "import numpy as np\n",
    "import scipy as sc\n",
    "import pandas as pd\n",
    "from sklearn import feature_extraction, linear_model\n",
    "import re"
   ]
  },
  {
   "cell_type": "code",
   "execution_count": 15,
   "metadata": {
    "collapsed": false
   },
   "outputs": [],
   "source": [
    "data_train = pd.read_csv('salary-train.csv')\n",
    "data_test = pd.read_csv('salary-test-mini.csv')"
   ]
  },
  {
   "cell_type": "code",
   "execution_count": 16,
   "metadata": {
    "collapsed": false
   },
   "outputs": [
    {
     "data": {
      "text/html": [
       "<div>\n",
       "<table border=\"1\" class=\"dataframe\">\n",
       "  <thead>\n",
       "    <tr style=\"text-align: right;\">\n",
       "      <th></th>\n",
       "      <th>FullDescription</th>\n",
       "      <th>LocationNormalized</th>\n",
       "      <th>ContractTime</th>\n",
       "      <th>SalaryNormalized</th>\n",
       "    </tr>\n",
       "  </thead>\n",
       "  <tbody>\n",
       "    <tr>\n",
       "      <th>0</th>\n",
       "      <td>International Sales Manager London ****k  ****...</td>\n",
       "      <td>London</td>\n",
       "      <td>permanent</td>\n",
       "      <td>33000</td>\n",
       "    </tr>\n",
       "    <tr>\n",
       "      <th>1</th>\n",
       "      <td>An ideal opportunity for an individual that ha...</td>\n",
       "      <td>London</td>\n",
       "      <td>permanent</td>\n",
       "      <td>50000</td>\n",
       "    </tr>\n",
       "    <tr>\n",
       "      <th>2</th>\n",
       "      <td>Online Content and Brand Manager// Luxury Reta...</td>\n",
       "      <td>South East London</td>\n",
       "      <td>permanent</td>\n",
       "      <td>40000</td>\n",
       "    </tr>\n",
       "    <tr>\n",
       "      <th>3</th>\n",
       "      <td>A great local marketleader is seeking a perman...</td>\n",
       "      <td>Dereham</td>\n",
       "      <td>permanent</td>\n",
       "      <td>22500</td>\n",
       "    </tr>\n",
       "    <tr>\n",
       "      <th>4</th>\n",
       "      <td>Registered Nurse / RGN  Nursing Home for Young...</td>\n",
       "      <td>Sutton Coldfield</td>\n",
       "      <td>NaN</td>\n",
       "      <td>20355</td>\n",
       "    </tr>\n",
       "  </tbody>\n",
       "</table>\n",
       "</div>"
      ],
      "text/plain": [
       "                                     FullDescription LocationNormalized  \\\n",
       "0  International Sales Manager London ****k  ****...             London   \n",
       "1  An ideal opportunity for an individual that ha...             London   \n",
       "2  Online Content and Brand Manager// Luxury Reta...  South East London   \n",
       "3  A great local marketleader is seeking a perman...            Dereham   \n",
       "4  Registered Nurse / RGN  Nursing Home for Young...   Sutton Coldfield   \n",
       "\n",
       "  ContractTime  SalaryNormalized  \n",
       "0    permanent             33000  \n",
       "1    permanent             50000  \n",
       "2    permanent             40000  \n",
       "3    permanent             22500  \n",
       "4          NaN             20355  "
      ]
     },
     "execution_count": 16,
     "metadata": {},
     "output_type": "execute_result"
    }
   ],
   "source": [
    "data_train.head()"
   ]
  },
  {
   "cell_type": "code",
   "execution_count": 17,
   "metadata": {
    "collapsed": false
   },
   "outputs": [
    {
     "data": {
      "text/html": [
       "<div>\n",
       "<table border=\"1\" class=\"dataframe\">\n",
       "  <thead>\n",
       "    <tr style=\"text-align: right;\">\n",
       "      <th></th>\n",
       "      <th>FullDescription</th>\n",
       "      <th>LocationNormalized</th>\n",
       "      <th>ContractTime</th>\n",
       "      <th>SalaryNormalized</th>\n",
       "    </tr>\n",
       "  </thead>\n",
       "  <tbody>\n",
       "    <tr>\n",
       "      <th>0</th>\n",
       "      <td>We currently have a vacancy for an HR Project ...</td>\n",
       "      <td>Milton Keynes</td>\n",
       "      <td>contract</td>\n",
       "      <td>NaN</td>\n",
       "    </tr>\n",
       "    <tr>\n",
       "      <th>1</th>\n",
       "      <td>A Web developer opportunity has arisen with an...</td>\n",
       "      <td>Manchester</td>\n",
       "      <td>permanent</td>\n",
       "      <td>NaN</td>\n",
       "    </tr>\n",
       "  </tbody>\n",
       "</table>\n",
       "</div>"
      ],
      "text/plain": [
       "                                     FullDescription LocationNormalized  \\\n",
       "0  We currently have a vacancy for an HR Project ...      Milton Keynes   \n",
       "1  A Web developer opportunity has arisen with an...         Manchester   \n",
       "\n",
       "  ContractTime  SalaryNormalized  \n",
       "0     contract               NaN  \n",
       "1    permanent               NaN  "
      ]
     },
     "execution_count": 17,
     "metadata": {},
     "output_type": "execute_result"
    }
   ],
   "source": [
    "data_test.head()"
   ]
  },
  {
   "cell_type": "code",
   "execution_count": 4,
   "metadata": {
    "collapsed": false
   },
   "outputs": [
    {
     "data": {
      "text/plain": [
       "(60000, 4)"
      ]
     },
     "execution_count": 4,
     "metadata": {},
     "output_type": "execute_result"
    }
   ],
   "source": [
    "data_train.shape"
   ]
  },
  {
   "cell_type": "code",
   "execution_count": 7,
   "metadata": {
    "collapsed": false
   },
   "outputs": [
    {
     "name": "stderr",
     "output_type": "stream",
     "text": [
      "/home/aleksey/projects/datascience/local/lib/python2.7/site-packages/pandas/core/indexing.py:117: SettingWithCopyWarning: \n",
      "A value is trying to be set on a copy of a slice from a DataFrame\n",
      "\n",
      "See the caveats in the documentation: http://pandas.pydata.org/pandas-docs/stable/indexing.html#indexing-view-versus-copy\n",
      "  self._setitem_with_indexer(indexer, value)\n"
     ]
    }
   ],
   "source": [
    "# text data preprocess\n",
    "for i in range(0, data_train.shape[0]):\n",
    "    data_train['FullDescription'].loc[i] = data_train['FullDescription'][i].lower()\n",
    "    data_train['FullDescription'].loc[i] = re.sub('[^a-zA-Z0-9]', ' ',\n",
    "                                             data_train['FullDescription'][i])"
   ]
  },
  {
   "cell_type": "code",
   "execution_count": 8,
   "metadata": {
    "collapsed": false
   },
   "outputs": [
    {
     "data": {
      "text/html": [
       "<div>\n",
       "<table border=\"1\" class=\"dataframe\">\n",
       "  <thead>\n",
       "    <tr style=\"text-align: right;\">\n",
       "      <th></th>\n",
       "      <th>FullDescription</th>\n",
       "      <th>LocationNormalized</th>\n",
       "      <th>ContractTime</th>\n",
       "      <th>SalaryNormalized</th>\n",
       "    </tr>\n",
       "  </thead>\n",
       "  <tbody>\n",
       "    <tr>\n",
       "      <th>0</th>\n",
       "      <td>international sales manager london     k      ...</td>\n",
       "      <td>London</td>\n",
       "      <td>permanent</td>\n",
       "      <td>33000</td>\n",
       "    </tr>\n",
       "    <tr>\n",
       "      <th>1</th>\n",
       "      <td>an ideal opportunity for an individual that ha...</td>\n",
       "      <td>London</td>\n",
       "      <td>permanent</td>\n",
       "      <td>50000</td>\n",
       "    </tr>\n",
       "    <tr>\n",
       "      <th>2</th>\n",
       "      <td>online content and brand manager   luxury reta...</td>\n",
       "      <td>South East London</td>\n",
       "      <td>permanent</td>\n",
       "      <td>40000</td>\n",
       "    </tr>\n",
       "    <tr>\n",
       "      <th>3</th>\n",
       "      <td>a great local marketleader is seeking a perman...</td>\n",
       "      <td>Dereham</td>\n",
       "      <td>permanent</td>\n",
       "      <td>22500</td>\n",
       "    </tr>\n",
       "    <tr>\n",
       "      <th>4</th>\n",
       "      <td>registered nurse   rgn  nursing home for young...</td>\n",
       "      <td>Sutton Coldfield</td>\n",
       "      <td>NaN</td>\n",
       "      <td>20355</td>\n",
       "    </tr>\n",
       "  </tbody>\n",
       "</table>\n",
       "</div>"
      ],
      "text/plain": [
       "                                     FullDescription LocationNormalized  \\\n",
       "0  international sales manager london     k      ...             London   \n",
       "1  an ideal opportunity for an individual that ha...             London   \n",
       "2  online content and brand manager   luxury reta...  South East London   \n",
       "3  a great local marketleader is seeking a perman...            Dereham   \n",
       "4  registered nurse   rgn  nursing home for young...   Sutton Coldfield   \n",
       "\n",
       "  ContractTime  SalaryNormalized  \n",
       "0    permanent             33000  \n",
       "1    permanent             50000  \n",
       "2    permanent             40000  \n",
       "3    permanent             22500  \n",
       "4          NaN             20355  "
      ]
     },
     "execution_count": 8,
     "metadata": {},
     "output_type": "execute_result"
    }
   ],
   "source": [
    "data_train.head()"
   ]
  },
  {
   "cell_type": "code",
   "execution_count": 49,
   "metadata": {
    "collapsed": true
   },
   "outputs": [],
   "source": [
    "vectorizer = feature_extraction.text.TfidfVectorizer(min_df = 5)"
   ]
  },
  {
   "cell_type": "code",
   "execution_count": 50,
   "metadata": {
    "collapsed": false
   },
   "outputs": [
    {
     "name": "stdout",
     "output_type": "stream",
     "text": [
      "  (0, 9617)\t0.0449054466495\n",
      "  (0, 20430)\t0.0387030647254\n",
      "  (0, 11731)\t0.0249346223278\n",
      "  (0, 18468)\t0.0509414020602\n",
      "  (0, 3355)\t0.0278091590827\n",
      "  (0, 7716)\t0.0513051833898\n",
      "  (0, 12180)\t0.0197840505835\n",
      "  (0, 22213)\t0.0205236703974\n",
      "  (0, 7329)\t0.0710101653143\n",
      "  (0, 2654)\t0.0354550991754\n",
      "  (0, 9938)\t0.0566107268711\n",
      "  (0, 22685)\t0.0266986366618\n",
      "  (0, 8489)\t0.0632466213314\n",
      "  (0, 11630)\t0.0523254190822\n",
      "  (0, 732)\t0.0419559684286\n",
      "  (0, 1241)\t0.0276577675047\n",
      "  (0, 19285)\t0.0554741330938\n",
      "  (0, 7101)\t0.0463080490832\n",
      "  (0, 22713)\t0.0384211834903\n",
      "  (0, 19385)\t0.0623002560096\n",
      "  (0, 8227)\t0.0585299991619\n",
      "  (0, 19519)\t0.0400154636653\n",
      "  (0, 11858)\t0.054256797444\n",
      "  (0, 5707)\t0.0341651291677\n",
      "  (0, 10070)\t0.0304827750754\n",
      "  :\t:\n",
      "  (59998, 12448)\t0.0169587206196\n",
      "  (59999, 379)\t0.398778725969\n",
      "  (59999, 17686)\t0.309835384268\n",
      "  (59999, 13274)\t0.292440912765\n",
      "  (59999, 3967)\t0.288381590769\n",
      "  (59999, 5278)\t0.246238933581\n",
      "  (59999, 3339)\t0.210614124688\n",
      "  (59999, 3652)\t0.225946873194\n",
      "  (59999, 11913)\t0.174027009866\n",
      "  (59999, 1616)\t0.287928494532\n",
      "  (59999, 1414)\t0.129360271699\n",
      "  (59999, 18709)\t0.18927800153\n",
      "  (59999, 2401)\t0.155668812317\n",
      "  (59999, 13594)\t0.265784881969\n",
      "  (59999, 22609)\t0.0645255788158\n",
      "  (59999, 9857)\t0.167486057469\n",
      "  (59999, 1973)\t0.181442475369\n",
      "  (59999, 9411)\t0.173231559789\n",
      "  (59999, 14786)\t0.127543093623\n",
      "  (59999, 17361)\t0.0842917447199\n",
      "  (59999, 20904)\t0.163458245498\n",
      "  (59999, 22455)\t0.0502825037622\n",
      "  (59999, 2228)\t0.0497913035477\n",
      "  (59999, 20848)\t0.0866432408222\n",
      "  (59999, 1274)\t0.0432898589716\n"
     ]
    }
   ],
   "source": [
    "descr_tr = vectorizer.fit_transform(data_train['FullDescription'])\n",
    "print descr_tr"
   ]
  },
  {
   "cell_type": "code",
   "execution_count": 32,
   "metadata": {
    "collapsed": false
   },
   "outputs": [],
   "source": [
    "data_train['LocationNormalized'].fillna('nan', inplace=True)\n",
    "data_train['ContractTime'].fillna('nan', inplace=True)"
   ]
  },
  {
   "cell_type": "code",
   "execution_count": 33,
   "metadata": {
    "collapsed": true
   },
   "outputs": [],
   "source": [
    "enc = feature_extraction.DictVectorizer()\n",
    "X_train_categ = enc.fit_transform(data_train[['LocationNormalized', 'ContractTime']].to_dict('records'))\n",
    "X_test_categ = enc.transform(data_test[['LocationNormalized', 'ContractTime']].to_dict('records'))"
   ]
  },
  {
   "cell_type": "code",
   "execution_count": 34,
   "metadata": {
    "collapsed": false
   },
   "outputs": [
    {
     "name": "stdout",
     "output_type": "stream",
     "text": [
      "  (0, 2)\t1.0\n",
      "  (0, 957)\t1.0\n",
      "  (1, 2)\t1.0\n",
      "  (1, 957)\t1.0\n",
      "  (2, 2)\t1.0\n",
      "  (2, 1392)\t1.0\n",
      "  (3, 2)\t1.0\n",
      "  (3, 471)\t1.0\n",
      "  (4, 1)\t1.0\n",
      "  (4, 1495)\t1.0\n",
      "  (5, 1)\t1.0\n",
      "  (5, 422)\t1.0\n",
      "  (6, 2)\t1.0\n",
      "  (6, 1575)\t1.0\n",
      "  (7, 2)\t1.0\n",
      "  (7, 224)\t1.0\n",
      "  (8, 2)\t1.0\n",
      "  (8, 309)\t1.0\n",
      "  (9, 2)\t1.0\n",
      "  (9, 1392)\t1.0\n",
      "  (10, 0)\t1.0\n",
      "  (10, 86)\t1.0\n",
      "  (11, 2)\t1.0\n",
      "  (11, 639)\t1.0\n",
      "  (12, 2)\t1.0\n",
      "  :\t:\n",
      "  (59987, 1411)\t1.0\n",
      "  (59988, 1)\t1.0\n",
      "  (59988, 335)\t1.0\n",
      "  (59989, 2)\t1.0\n",
      "  (59989, 899)\t1.0\n",
      "  (59990, 2)\t1.0\n",
      "  (59990, 44)\t1.0\n",
      "  (59991, 2)\t1.0\n",
      "  (59991, 1665)\t1.0\n",
      "  (59992, 0)\t1.0\n",
      "  (59992, 957)\t1.0\n",
      "  (59993, 1)\t1.0\n",
      "  (59993, 957)\t1.0\n",
      "  (59994, 1)\t1.0\n",
      "  (59994, 679)\t1.0\n",
      "  (59995, 0)\t1.0\n",
      "  (59995, 1691)\t1.0\n",
      "  (59996, 2)\t1.0\n",
      "  (59996, 986)\t1.0\n",
      "  (59997, 1)\t1.0\n",
      "  (59997, 78)\t1.0\n",
      "  (59998, 2)\t1.0\n",
      "  (59998, 1531)\t1.0\n",
      "  (59999, 1)\t1.0\n",
      "  (59999, 957)\t1.0\n"
     ]
    }
   ],
   "source": [
    "print X_train_categ"
   ]
  },
  {
   "cell_type": "code",
   "execution_count": 51,
   "metadata": {
    "collapsed": false
   },
   "outputs": [
    {
     "name": "stdout",
     "output_type": "stream",
     "text": [
      "  (0, 9617)\t0.0449054466495\n",
      "  (0, 20430)\t0.0387030647254\n",
      "  (0, 11731)\t0.0249346223278\n",
      "  (0, 18468)\t0.0509414020602\n",
      "  (0, 3355)\t0.0278091590827\n",
      "  (0, 7716)\t0.0513051833898\n",
      "  (0, 12180)\t0.0197840505835\n",
      "  (0, 22213)\t0.0205236703974\n",
      "  (0, 7329)\t0.0710101653143\n",
      "  (0, 2654)\t0.0354550991754\n",
      "  (0, 9938)\t0.0566107268711\n",
      "  (0, 22685)\t0.0266986366618\n",
      "  (0, 8489)\t0.0632466213314\n",
      "  (0, 11630)\t0.0523254190822\n",
      "  (0, 732)\t0.0419559684286\n",
      "  (0, 1241)\t0.0276577675047\n",
      "  (0, 19285)\t0.0554741330938\n",
      "  (0, 7101)\t0.0463080490832\n",
      "  (0, 22713)\t0.0384211834903\n",
      "  (0, 19385)\t0.0623002560096\n",
      "  (0, 8227)\t0.0585299991619\n",
      "  (0, 19519)\t0.0400154636653\n",
      "  (0, 11858)\t0.054256797444\n",
      "  (0, 5707)\t0.0341651291677\n",
      "  (0, 10070)\t0.0304827750754\n",
      "  :\t:\n",
      "  (59987, 24290)\t1.0\n",
      "  (59988, 22880)\t1.0\n",
      "  (59988, 23214)\t1.0\n",
      "  (59989, 22881)\t1.0\n",
      "  (59989, 23778)\t1.0\n",
      "  (59990, 22881)\t1.0\n",
      "  (59990, 22923)\t1.0\n",
      "  (59991, 22881)\t1.0\n",
      "  (59991, 24544)\t1.0\n",
      "  (59992, 22879)\t1.0\n",
      "  (59992, 23836)\t1.0\n",
      "  (59993, 22880)\t1.0\n",
      "  (59993, 23836)\t1.0\n",
      "  (59994, 22880)\t1.0\n",
      "  (59994, 23558)\t1.0\n",
      "  (59995, 22879)\t1.0\n",
      "  (59995, 24570)\t1.0\n",
      "  (59996, 22881)\t1.0\n",
      "  (59996, 23865)\t1.0\n",
      "  (59997, 22880)\t1.0\n",
      "  (59997, 22957)\t1.0\n",
      "  (59998, 22881)\t1.0\n",
      "  (59998, 24410)\t1.0\n",
      "  (59999, 22880)\t1.0\n",
      "  (59999, 23836)\t1.0\n"
     ]
    }
   ],
   "source": [
    "X_train = sc.sparse.hstack((descr_tr, X_train_categ))\n",
    "print X_train"
   ]
  },
  {
   "cell_type": "code",
   "execution_count": 52,
   "metadata": {
    "collapsed": false
   },
   "outputs": [
    {
     "data": {
      "text/plain": [
       "Ridge(alpha=1, copy_X=True, fit_intercept=True, max_iter=None,\n",
       "   normalize=False, random_state=None, solver='auto', tol=0.001)"
      ]
     },
     "execution_count": 52,
     "metadata": {},
     "output_type": "execute_result"
    }
   ],
   "source": [
    "# train Ridge classifier\n",
    "clf = linear_model.Ridge(alpha=1)\n",
    "clf.fit(X_train, data_train['SalaryNormalized'])"
   ]
  },
  {
   "cell_type": "code",
   "execution_count": 53,
   "metadata": {
    "collapsed": true
   },
   "outputs": [],
   "source": [
    "# test data preprocessing\n",
    "data_test['FullDescription'] = data_test['FullDescription'].str.lower()\n",
    "data_test['LocationNormalized'].fillna('nan', inplace=True)\n",
    "data_test['ContractTime'].fillna('nan', inplace=True)"
   ]
  },
  {
   "cell_type": "code",
   "execution_count": 54,
   "metadata": {
    "collapsed": false
   },
   "outputs": [
    {
     "data": {
      "text/html": [
       "<div>\n",
       "<table border=\"1\" class=\"dataframe\">\n",
       "  <thead>\n",
       "    <tr style=\"text-align: right;\">\n",
       "      <th></th>\n",
       "      <th>FullDescription</th>\n",
       "      <th>LocationNormalized</th>\n",
       "      <th>ContractTime</th>\n",
       "      <th>SalaryNormalized</th>\n",
       "    </tr>\n",
       "  </thead>\n",
       "  <tbody>\n",
       "    <tr>\n",
       "      <th>0</th>\n",
       "      <td>we currently have a vacancy for an hr project ...</td>\n",
       "      <td>Milton Keynes</td>\n",
       "      <td>contract</td>\n",
       "      <td>NaN</td>\n",
       "    </tr>\n",
       "    <tr>\n",
       "      <th>1</th>\n",
       "      <td>a web developer opportunity has arisen with an...</td>\n",
       "      <td>Manchester</td>\n",
       "      <td>permanent</td>\n",
       "      <td>NaN</td>\n",
       "    </tr>\n",
       "  </tbody>\n",
       "</table>\n",
       "</div>"
      ],
      "text/plain": [
       "                                     FullDescription LocationNormalized  \\\n",
       "0  we currently have a vacancy for an hr project ...      Milton Keynes   \n",
       "1  a web developer opportunity has arisen with an...         Manchester   \n",
       "\n",
       "  ContractTime  SalaryNormalized  \n",
       "0     contract               NaN  \n",
       "1    permanent               NaN  "
      ]
     },
     "execution_count": 54,
     "metadata": {},
     "output_type": "execute_result"
    }
   ],
   "source": [
    "data_test.head()"
   ]
  },
  {
   "cell_type": "code",
   "execution_count": 55,
   "metadata": {
    "collapsed": false
   },
   "outputs": [],
   "source": [
    "X_desc = vectorizer.transform(data_test['FullDescription'])\n",
    "X_test = sc.sparse.hstack((X_desc, X_test_categ))"
   ]
  },
  {
   "cell_type": "code",
   "execution_count": 56,
   "metadata": {
    "collapsed": true
   },
   "outputs": [],
   "source": [
    "values = clf.predict(X_test)"
   ]
  },
  {
   "cell_type": "code",
   "execution_count": 57,
   "metadata": {
    "collapsed": false
   },
   "outputs": [
    {
     "data": {
      "text/plain": [
       "array([ 56521.03326273,  37211.49089278])"
      ]
     },
     "execution_count": 57,
     "metadata": {},
     "output_type": "execute_result"
    }
   ],
   "source": [
    "values"
   ]
  },
  {
   "cell_type": "code",
   "execution_count": 58,
   "metadata": {
    "collapsed": true
   },
   "outputs": [],
   "source": [
    "file = open('linreg.txt', 'wt')\n",
    "file.write(str(values[0]) + ' ' + str(values[1]))\n",
    "file.close()"
   ]
  }
 ],
 "metadata": {
  "kernelspec": {
   "display_name": "Python 2",
   "language": "python",
   "name": "python2"
  },
  "language_info": {
   "codemirror_mode": {
    "name": "ipython",
    "version": 2
   },
   "file_extension": ".py",
   "mimetype": "text/x-python",
   "name": "python",
   "nbconvert_exporter": "python",
   "pygments_lexer": "ipython2",
   "version": "2.7.6"
  }
 },
 "nbformat": 4,
 "nbformat_minor": 0
}

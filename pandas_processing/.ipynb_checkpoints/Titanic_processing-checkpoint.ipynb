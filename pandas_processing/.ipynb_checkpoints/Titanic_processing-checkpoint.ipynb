{
 "cells": [
  {
   "cell_type": "code",
   "execution_count": 59,
   "metadata": {
    "collapsed": true
   },
   "outputs": [],
   "source": [
    "import numpy as np\n",
    "import pandas as pd\n",
    "import scipy.stats"
   ]
  },
  {
   "cell_type": "code",
   "execution_count": 4,
   "metadata": {
    "collapsed": false
   },
   "outputs": [
    {
     "data": {
      "text/html": [
       "<div>\n",
       "<table border=\"1\" class=\"dataframe\">\n",
       "  <thead>\n",
       "    <tr style=\"text-align: right;\">\n",
       "      <th></th>\n",
       "      <th>Survived</th>\n",
       "      <th>Pclass</th>\n",
       "      <th>Name</th>\n",
       "      <th>Sex</th>\n",
       "      <th>Age</th>\n",
       "      <th>SibSp</th>\n",
       "      <th>Parch</th>\n",
       "      <th>Ticket</th>\n",
       "      <th>Fare</th>\n",
       "      <th>Cabin</th>\n",
       "      <th>Embarked</th>\n",
       "    </tr>\n",
       "    <tr>\n",
       "      <th>PassengerId</th>\n",
       "      <th></th>\n",
       "      <th></th>\n",
       "      <th></th>\n",
       "      <th></th>\n",
       "      <th></th>\n",
       "      <th></th>\n",
       "      <th></th>\n",
       "      <th></th>\n",
       "      <th></th>\n",
       "      <th></th>\n",
       "      <th></th>\n",
       "    </tr>\n",
       "  </thead>\n",
       "  <tbody>\n",
       "    <tr>\n",
       "      <th>1</th>\n",
       "      <td>0</td>\n",
       "      <td>3</td>\n",
       "      <td>Braund, Mr. Owen Harris</td>\n",
       "      <td>male</td>\n",
       "      <td>22</td>\n",
       "      <td>1</td>\n",
       "      <td>0</td>\n",
       "      <td>A/5 21171</td>\n",
       "      <td>7.2500</td>\n",
       "      <td>NaN</td>\n",
       "      <td>S</td>\n",
       "    </tr>\n",
       "    <tr>\n",
       "      <th>2</th>\n",
       "      <td>1</td>\n",
       "      <td>1</td>\n",
       "      <td>Cumings, Mrs. John Bradley (Florence Briggs Th...</td>\n",
       "      <td>female</td>\n",
       "      <td>38</td>\n",
       "      <td>1</td>\n",
       "      <td>0</td>\n",
       "      <td>PC 17599</td>\n",
       "      <td>71.2833</td>\n",
       "      <td>C85</td>\n",
       "      <td>C</td>\n",
       "    </tr>\n",
       "    <tr>\n",
       "      <th>3</th>\n",
       "      <td>1</td>\n",
       "      <td>3</td>\n",
       "      <td>Heikkinen, Miss. Laina</td>\n",
       "      <td>female</td>\n",
       "      <td>26</td>\n",
       "      <td>0</td>\n",
       "      <td>0</td>\n",
       "      <td>STON/O2. 3101282</td>\n",
       "      <td>7.9250</td>\n",
       "      <td>NaN</td>\n",
       "      <td>S</td>\n",
       "    </tr>\n",
       "    <tr>\n",
       "      <th>4</th>\n",
       "      <td>1</td>\n",
       "      <td>1</td>\n",
       "      <td>Futrelle, Mrs. Jacques Heath (Lily May Peel)</td>\n",
       "      <td>female</td>\n",
       "      <td>35</td>\n",
       "      <td>1</td>\n",
       "      <td>0</td>\n",
       "      <td>113803</td>\n",
       "      <td>53.1000</td>\n",
       "      <td>C123</td>\n",
       "      <td>S</td>\n",
       "    </tr>\n",
       "    <tr>\n",
       "      <th>5</th>\n",
       "      <td>0</td>\n",
       "      <td>3</td>\n",
       "      <td>Allen, Mr. William Henry</td>\n",
       "      <td>male</td>\n",
       "      <td>35</td>\n",
       "      <td>0</td>\n",
       "      <td>0</td>\n",
       "      <td>373450</td>\n",
       "      <td>8.0500</td>\n",
       "      <td>NaN</td>\n",
       "      <td>S</td>\n",
       "    </tr>\n",
       "  </tbody>\n",
       "</table>\n",
       "</div>"
      ],
      "text/plain": [
       "             Survived  Pclass  \\\n",
       "PassengerId                     \n",
       "1                   0       3   \n",
       "2                   1       1   \n",
       "3                   1       3   \n",
       "4                   1       1   \n",
       "5                   0       3   \n",
       "\n",
       "                                                          Name     Sex  Age  \\\n",
       "PassengerId                                                                   \n",
       "1                                      Braund, Mr. Owen Harris    male   22   \n",
       "2            Cumings, Mrs. John Bradley (Florence Briggs Th...  female   38   \n",
       "3                                       Heikkinen, Miss. Laina  female   26   \n",
       "4                 Futrelle, Mrs. Jacques Heath (Lily May Peel)  female   35   \n",
       "5                                     Allen, Mr. William Henry    male   35   \n",
       "\n",
       "             SibSp  Parch            Ticket     Fare Cabin Embarked  \n",
       "PassengerId                                                          \n",
       "1                1      0         A/5 21171   7.2500   NaN        S  \n",
       "2                1      0          PC 17599  71.2833   C85        C  \n",
       "3                0      0  STON/O2. 3101282   7.9250   NaN        S  \n",
       "4                1      0            113803  53.1000  C123        S  \n",
       "5                0      0            373450   8.0500   NaN        S  "
      ]
     },
     "execution_count": 4,
     "metadata": {},
     "output_type": "execute_result"
    }
   ],
   "source": [
    "data = pd.read_csv('titanic.csv', index_col='PassengerId')\n",
    "\n",
    "data.head()"
   ]
  },
  {
   "cell_type": "code",
   "execution_count": 16,
   "metadata": {
    "collapsed": false
   },
   "outputs": [],
   "source": [
    "file = open(u'sex_counts.txt', 'wt')\n",
    "file.write(str(data['Sex'].value_counts()[0]) + ' ' + str(data['Sex'].value_counts()[1]))\n",
    "file.close()"
   ]
  },
  {
   "cell_type": "code",
   "execution_count": 42,
   "metadata": {
    "collapsed": false
   },
   "outputs": [],
   "source": [
    "# second task\n",
    "surv = data[data['Survived'] == 1].shape[0]\n",
    "dead = data[data['Survived'] == 0].shape[0]\n",
    "surv_per = 100 * float(surv) / (float(surv) + float(dead))\n",
    "file = open(u'survived.txt', 'wt')\n",
    "file.write(str(surv_per))\n",
    "file.close()"
   ]
  },
  {
   "cell_type": "code",
   "execution_count": 47,
   "metadata": {
    "collapsed": false
   },
   "outputs": [],
   "source": [
    "# third task\n",
    "fclass_per = 100 * float(data[data['Pclass'] == 1].shape[0]) / float(data.shape[0])\n",
    "fclass_per\n",
    "file = open(u'fclass_per.txt', 'wt')\n",
    "file.write(str(fclass_per))\n",
    "file.close()"
   ]
  },
  {
   "cell_type": "code",
   "execution_count": 56,
   "metadata": {
    "collapsed": false
   },
   "outputs": [],
   "source": [
    "# fourth task\n",
    "mean = np.mean(data['Age'])\n",
    "median = np.nanmedian(data['Age'], )\n",
    "file = open(u'age.txt', 'wt')\n",
    "file.write(str(mean) + ' ' + str(median))\n",
    "file.close()"
   ]
  },
  {
   "cell_type": "code",
   "execution_count": 63,
   "metadata": {
    "collapsed": false
   },
   "outputs": [],
   "source": [
    "# fifth task\n",
    "cor = scipy.stats.pearsonr(data['SibSp'], data['Parch'])\n",
    "file = open(u'correlation.txt', 'wt')\n",
    "file.write(str(100 * cor[0]))\n",
    "file.close()"
   ]
  },
  {
   "cell_type": "code",
   "execution_count": 81,
   "metadata": {
    "collapsed": false
   },
   "outputs": [],
   "source": [
    "# sixth task\n",
    "w_names = data['Name'][data['Sex'] == 'female']"
   ]
  },
  {
   "cell_type": "code",
   "execution_count": 87,
   "metadata": {
    "collapsed": false
   },
   "outputs": [
    {
     "data": {
      "text/plain": [
       "PassengerId\n",
       "2      Cumings, Mrs. John Bradley (Florence Briggs Th...\n",
       "3                                 Heikkinen, Miss. Laina\n",
       "4           Futrelle, Mrs. Jacques Heath (Lily May Peel)\n",
       "9      Johnson, Mrs. Oscar W (Elisabeth Vilhelmina Berg)\n",
       "10                   Nasser, Mrs. Nicholas (Adele Achem)\n",
       "11                       Sandstrom, Miss. Marguerite Rut\n",
       "12                              Bonnell, Miss. Elizabeth\n",
       "15                  Vestrom, Miss. Hulda Amanda Adolfina\n",
       "16                      Hewlett, Mrs. (Mary D Kingcome) \n",
       "19     Vander Planke, Mrs. Julius (Emelia Maria Vande...\n",
       "20                               Masselmani, Mrs. Fatima\n",
       "23                           McGowan, Miss. Anna \"Annie\"\n",
       "25                         Palsson, Miss. Torborg Danira\n",
       "26     Asplund, Mrs. Carl Oscar (Selma Augusta Emilia...\n",
       "29                         O'Dwyer, Miss. Ellen \"Nellie\"\n",
       "32        Spencer, Mrs. William Augustus (Marie Eugenie)\n",
       "33                              Glynn, Miss. Mary Agatha\n",
       "39                    Vander Planke, Miss. Augusta Maria\n",
       "40                           Nicola-Yarred, Miss. Jamila\n",
       "41        Ahlin, Mrs. Johan (Johanna Persdotter Larsson)\n",
       "42     Turpin, Mrs. William John Robert (Dorothy Ann ...\n",
       "44              Laroche, Miss. Simonne Marie Anne Andree\n",
       "45                         Devaney, Miss. Margaret Delia\n",
       "48                             O'Driscoll, Miss. Bridget\n",
       "50         Arnold-Franchi, Mrs. Josef (Josefine Franchi)\n",
       "53              Harper, Mrs. Henry Sleeper (Myna Haxtun)\n",
       "54     Faunthorpe, Mrs. Lizzie (Elizabeth Anne Wilkin...\n",
       "57                                     Rugg, Miss. Emily\n",
       "59                          West, Miss. Constance Mirium\n",
       "62                                   Icard, Miss. Amelie\n",
       "                             ...                        \n",
       "808                      Pettersson, Miss. Ellen Natalia\n",
       "810       Chambers, Mrs. Norman Campbell (Bertha Griggs)\n",
       "814                   Andersson, Miss. Ebba Iris Alfrida\n",
       "817                         Heininen, Miss. Wendla Maria\n",
       "821    Hays, Mrs. Charles Melville (Clara Jennings Gr...\n",
       "824                                   Moor, Mrs. (Beila)\n",
       "830            Stone, Mrs. George Nelson (Martha Evelyn)\n",
       "831              Yasbeck, Mrs. Antoni (Selini Alexander)\n",
       "836                          Compton, Miss. Sara Rebecca\n",
       "843                              Serepeca, Miss. Augusta\n",
       "850         Goldenberg, Mrs. Samuel L (Edwiga Grabowska)\n",
       "853                              Boulos, Miss. Nourelain\n",
       "854                            Lines, Miss. Mary Conover\n",
       "855        Carter, Mrs. Ernest Courtenay (Lilian Hughes)\n",
       "856                           Aks, Mrs. Sam (Leah Rosen)\n",
       "857           Wick, Mrs. George Dennick (Mary Hitchcock)\n",
       "859                Baclini, Mrs. Solomon (Latifa Qurban)\n",
       "863    Swift, Mrs. Frederick Joel (Margaret Welles Ba...\n",
       "864                    Sage, Miss. Dorothy Edith \"Dolly\"\n",
       "866                             Bystrom, Mrs. (Karolina)\n",
       "867                         Duran y More, Miss. Asuncion\n",
       "872     Beckwith, Mrs. Richard Leonard (Sallie Monypeny)\n",
       "875                Abelson, Mrs. Samuel (Hannah Wizosky)\n",
       "876                     Najib, Miss. Adele Kiamie \"Jane\"\n",
       "880        Potter, Mrs. Thomas Jr (Lily Alexenia Wilson)\n",
       "881         Shelley, Mrs. William (Imanita Parrish Hall)\n",
       "883                         Dahlberg, Miss. Gerda Ulrika\n",
       "886                 Rice, Mrs. William (Margaret Norton)\n",
       "888                         Graham, Miss. Margaret Edith\n",
       "889             Johnston, Miss. Catherine Helen \"Carrie\"\n",
       "Name: Name, dtype: object"
      ]
     },
     "execution_count": 87,
     "metadata": {},
     "output_type": "execute_result"
    }
   ],
   "source": [
    "fnames = []\n",
    "w_names"
   ]
  },
  {
   "cell_type": "code",
   "execution_count": 108,
   "metadata": {
    "collapsed": false
   },
   "outputs": [
    {
     "name": "stdout",
     "output_type": "stream",
     "text": [
      "Sultana\n",
      "Rosa\n",
      "Anna\n",
      "\"Mary\"\n",
      "Marion\n",
      "Hedwig\n",
      "Emma\n",
      "Catherine\n",
      "Mary\n",
      "Farnham\n",
      "Beila\n",
      "Karolina\n"
     ]
    }
   ],
   "source": [
    "for i in w_names.index:\n",
    "    if w_names[i].find('(') != -1:\n",
    "        substring = w_names[i].split('(')\n",
    "        substring_parts = substring[1].split(' ')[0]\n",
    "        if substring_parts.find(')') != -1:\n",
    "            fnames.append(substring_parts.split(')')[0])\n",
    "        #else:\n",
    "            #fnames.append(substring_parts)\n",
    "        \n",
    "fnames\n",
    "        "
   ]
  },
  {
   "cell_type": "code",
   "execution_count": null,
   "metadata": {
    "collapsed": true
   },
   "outputs": [],
   "source": []
  }
 ],
 "metadata": {
  "kernelspec": {
   "display_name": "Python 2",
   "language": "python",
   "name": "python2"
  },
  "language_info": {
   "codemirror_mode": {
    "name": "ipython",
    "version": 2
   },
   "file_extension": ".py",
   "mimetype": "text/x-python",
   "name": "python",
   "nbconvert_exporter": "python",
   "pygments_lexer": "ipython2",
   "version": "2.7.9"
  }
 },
 "nbformat": 4,
 "nbformat_minor": 0
}

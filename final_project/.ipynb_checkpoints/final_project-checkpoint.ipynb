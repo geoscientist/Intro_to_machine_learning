{
 "cells": [
  {
   "cell_type": "markdown",
   "metadata": {},
   "source": [
    "#  Предсказание победителя в онлайн игре Dota 2"
   ]
  },
  {
   "cell_type": "code",
   "execution_count": 1,
   "metadata": {
    "collapsed": true
   },
   "outputs": [],
   "source": [
    "import datetime\n",
    "import numpy as np\n",
    "import pandas as pd\n",
    "from sklearn.cross_validation import train_test_split, KFold, cross_val_score\n",
    "from sklearn.ensemble import GradientBoostingClassifier\n",
    "from sklearn.grid_search import GridSearchCV\n",
    "from sklearn.metrics import log_loss, roc_auc_score, roc_curve, auc\n",
    "from sklearn.preprocessing import StandardScaler\n",
    "from sklearn.linear_model import LogisticRegression\n",
    "import matplotlib.pyplot as plt\n",
    "%matplotlib inline"
   ]
  },
  {
   "cell_type": "markdown",
   "metadata": {},
   "source": [
    "## Импорт данных"
   ]
  },
  {
   "cell_type": "code",
   "execution_count": 2,
   "metadata": {
    "collapsed": true
   },
   "outputs": [],
   "source": [
    "features = pd.read_csv('features.csv', index_col='match_id')\n",
    "features_test = pd.read_csv('features_test.csv', index_col='match_id')"
   ]
  },
  {
   "cell_type": "code",
   "execution_count": 3,
   "metadata": {
    "collapsed": false
   },
   "outputs": [
    {
     "data": {
      "text/html": [
       "<div>\n",
       "<table border=\"1\" class=\"dataframe\">\n",
       "  <thead>\n",
       "    <tr style=\"text-align: right;\">\n",
       "      <th></th>\n",
       "      <th>start_time</th>\n",
       "      <th>lobby_type</th>\n",
       "      <th>r1_hero</th>\n",
       "      <th>r1_level</th>\n",
       "      <th>r1_xp</th>\n",
       "      <th>r1_gold</th>\n",
       "      <th>r1_lh</th>\n",
       "      <th>r1_kills</th>\n",
       "      <th>r1_deaths</th>\n",
       "      <th>r1_items</th>\n",
       "      <th>...</th>\n",
       "      <th>dire_boots_count</th>\n",
       "      <th>dire_ward_observer_count</th>\n",
       "      <th>dire_ward_sentry_count</th>\n",
       "      <th>dire_first_ward_time</th>\n",
       "      <th>duration</th>\n",
       "      <th>radiant_win</th>\n",
       "      <th>tower_status_radiant</th>\n",
       "      <th>tower_status_dire</th>\n",
       "      <th>barracks_status_radiant</th>\n",
       "      <th>barracks_status_dire</th>\n",
       "    </tr>\n",
       "    <tr>\n",
       "      <th>match_id</th>\n",
       "      <th></th>\n",
       "      <th></th>\n",
       "      <th></th>\n",
       "      <th></th>\n",
       "      <th></th>\n",
       "      <th></th>\n",
       "      <th></th>\n",
       "      <th></th>\n",
       "      <th></th>\n",
       "      <th></th>\n",
       "      <th></th>\n",
       "      <th></th>\n",
       "      <th></th>\n",
       "      <th></th>\n",
       "      <th></th>\n",
       "      <th></th>\n",
       "      <th></th>\n",
       "      <th></th>\n",
       "      <th></th>\n",
       "      <th></th>\n",
       "      <th></th>\n",
       "    </tr>\n",
       "  </thead>\n",
       "  <tbody>\n",
       "    <tr>\n",
       "      <th>0</th>\n",
       "      <td>1430198770</td>\n",
       "      <td>7</td>\n",
       "      <td>11</td>\n",
       "      <td>5</td>\n",
       "      <td>2098</td>\n",
       "      <td>1489</td>\n",
       "      <td>20</td>\n",
       "      <td>0</td>\n",
       "      <td>0</td>\n",
       "      <td>7</td>\n",
       "      <td>...</td>\n",
       "      <td>4</td>\n",
       "      <td>2</td>\n",
       "      <td>2</td>\n",
       "      <td>-52</td>\n",
       "      <td>2874</td>\n",
       "      <td>1</td>\n",
       "      <td>1796</td>\n",
       "      <td>0</td>\n",
       "      <td>51</td>\n",
       "      <td>0</td>\n",
       "    </tr>\n",
       "    <tr>\n",
       "      <th>1</th>\n",
       "      <td>1430220345</td>\n",
       "      <td>0</td>\n",
       "      <td>42</td>\n",
       "      <td>4</td>\n",
       "      <td>1188</td>\n",
       "      <td>1033</td>\n",
       "      <td>9</td>\n",
       "      <td>0</td>\n",
       "      <td>1</td>\n",
       "      <td>12</td>\n",
       "      <td>...</td>\n",
       "      <td>4</td>\n",
       "      <td>3</td>\n",
       "      <td>1</td>\n",
       "      <td>-5</td>\n",
       "      <td>2463</td>\n",
       "      <td>1</td>\n",
       "      <td>1974</td>\n",
       "      <td>0</td>\n",
       "      <td>63</td>\n",
       "      <td>1</td>\n",
       "    </tr>\n",
       "    <tr>\n",
       "      <th>2</th>\n",
       "      <td>1430227081</td>\n",
       "      <td>7</td>\n",
       "      <td>33</td>\n",
       "      <td>4</td>\n",
       "      <td>1319</td>\n",
       "      <td>1270</td>\n",
       "      <td>22</td>\n",
       "      <td>0</td>\n",
       "      <td>0</td>\n",
       "      <td>12</td>\n",
       "      <td>...</td>\n",
       "      <td>4</td>\n",
       "      <td>3</td>\n",
       "      <td>1</td>\n",
       "      <td>13</td>\n",
       "      <td>2130</td>\n",
       "      <td>0</td>\n",
       "      <td>0</td>\n",
       "      <td>1830</td>\n",
       "      <td>0</td>\n",
       "      <td>63</td>\n",
       "    </tr>\n",
       "    <tr>\n",
       "      <th>3</th>\n",
       "      <td>1430263531</td>\n",
       "      <td>1</td>\n",
       "      <td>29</td>\n",
       "      <td>4</td>\n",
       "      <td>1779</td>\n",
       "      <td>1056</td>\n",
       "      <td>14</td>\n",
       "      <td>0</td>\n",
       "      <td>0</td>\n",
       "      <td>5</td>\n",
       "      <td>...</td>\n",
       "      <td>4</td>\n",
       "      <td>2</td>\n",
       "      <td>0</td>\n",
       "      <td>27</td>\n",
       "      <td>1459</td>\n",
       "      <td>0</td>\n",
       "      <td>1920</td>\n",
       "      <td>2047</td>\n",
       "      <td>50</td>\n",
       "      <td>63</td>\n",
       "    </tr>\n",
       "    <tr>\n",
       "      <th>4</th>\n",
       "      <td>1430282290</td>\n",
       "      <td>7</td>\n",
       "      <td>13</td>\n",
       "      <td>4</td>\n",
       "      <td>1431</td>\n",
       "      <td>1090</td>\n",
       "      <td>8</td>\n",
       "      <td>1</td>\n",
       "      <td>0</td>\n",
       "      <td>8</td>\n",
       "      <td>...</td>\n",
       "      <td>3</td>\n",
       "      <td>3</td>\n",
       "      <td>0</td>\n",
       "      <td>-16</td>\n",
       "      <td>2449</td>\n",
       "      <td>0</td>\n",
       "      <td>4</td>\n",
       "      <td>1974</td>\n",
       "      <td>3</td>\n",
       "      <td>63</td>\n",
       "    </tr>\n",
       "  </tbody>\n",
       "</table>\n",
       "<p>5 rows × 108 columns</p>\n",
       "</div>"
      ],
      "text/plain": [
       "          start_time  lobby_type  r1_hero  r1_level  r1_xp  r1_gold  r1_lh  \\\n",
       "match_id                                                                     \n",
       "0         1430198770           7       11         5   2098     1489     20   \n",
       "1         1430220345           0       42         4   1188     1033      9   \n",
       "2         1430227081           7       33         4   1319     1270     22   \n",
       "3         1430263531           1       29         4   1779     1056     14   \n",
       "4         1430282290           7       13         4   1431     1090      8   \n",
       "\n",
       "          r1_kills  r1_deaths  r1_items          ...           \\\n",
       "match_id                                         ...            \n",
       "0                0          0         7          ...            \n",
       "1                0          1        12          ...            \n",
       "2                0          0        12          ...            \n",
       "3                0          0         5          ...            \n",
       "4                1          0         8          ...            \n",
       "\n",
       "          dire_boots_count  dire_ward_observer_count  dire_ward_sentry_count  \\\n",
       "match_id                                                                       \n",
       "0                        4                         2                       2   \n",
       "1                        4                         3                       1   \n",
       "2                        4                         3                       1   \n",
       "3                        4                         2                       0   \n",
       "4                        3                         3                       0   \n",
       "\n",
       "          dire_first_ward_time  duration  radiant_win  tower_status_radiant  \\\n",
       "match_id                                                                      \n",
       "0                          -52      2874            1                  1796   \n",
       "1                           -5      2463            1                  1974   \n",
       "2                           13      2130            0                     0   \n",
       "3                           27      1459            0                  1920   \n",
       "4                          -16      2449            0                     4   \n",
       "\n",
       "          tower_status_dire  barracks_status_radiant  barracks_status_dire  \n",
       "match_id                                                                    \n",
       "0                         0                       51                     0  \n",
       "1                         0                       63                     1  \n",
       "2                      1830                        0                    63  \n",
       "3                      2047                       50                    63  \n",
       "4                      1974                        3                    63  \n",
       "\n",
       "[5 rows x 108 columns]"
      ]
     },
     "execution_count": 3,
     "metadata": {},
     "output_type": "execute_result"
    }
   ],
   "source": [
    "features.head()"
   ]
  },
  {
   "cell_type": "code",
   "execution_count": 4,
   "metadata": {
    "collapsed": false,
    "scrolled": true
   },
   "outputs": [
    {
     "name": "stdout",
     "output_type": "stream",
     "text": [
      "<class 'pandas.core.frame.DataFrame'>\n",
      "Int64Index: 97230 entries, 0 to 114406\n",
      "Columns: 108 entries, start_time to barracks_status_dire\n",
      "dtypes: float64(12), int64(96)\n",
      "memory usage: 80.9 MB\n"
     ]
    }
   ],
   "source": [
    "features.info()"
   ]
  },
  {
   "cell_type": "code",
   "execution_count": 5,
   "metadata": {
    "collapsed": false
   },
   "outputs": [
    {
     "data": {
      "text/html": [
       "<div>\n",
       "<table border=\"1\" class=\"dataframe\">\n",
       "  <thead>\n",
       "    <tr style=\"text-align: right;\">\n",
       "      <th></th>\n",
       "      <th>start_time</th>\n",
       "      <th>lobby_type</th>\n",
       "      <th>r1_hero</th>\n",
       "      <th>r1_level</th>\n",
       "      <th>r1_xp</th>\n",
       "      <th>r1_gold</th>\n",
       "      <th>r1_lh</th>\n",
       "      <th>r1_kills</th>\n",
       "      <th>r1_deaths</th>\n",
       "      <th>r1_items</th>\n",
       "      <th>...</th>\n",
       "      <th>radiant_ward_sentry_count</th>\n",
       "      <th>radiant_first_ward_time</th>\n",
       "      <th>dire_bottle_time</th>\n",
       "      <th>dire_courier_time</th>\n",
       "      <th>dire_flying_courier_time</th>\n",
       "      <th>dire_tpscroll_count</th>\n",
       "      <th>dire_boots_count</th>\n",
       "      <th>dire_ward_observer_count</th>\n",
       "      <th>dire_ward_sentry_count</th>\n",
       "      <th>dire_first_ward_time</th>\n",
       "    </tr>\n",
       "    <tr>\n",
       "      <th>match_id</th>\n",
       "      <th></th>\n",
       "      <th></th>\n",
       "      <th></th>\n",
       "      <th></th>\n",
       "      <th></th>\n",
       "      <th></th>\n",
       "      <th></th>\n",
       "      <th></th>\n",
       "      <th></th>\n",
       "      <th></th>\n",
       "      <th></th>\n",
       "      <th></th>\n",
       "      <th></th>\n",
       "      <th></th>\n",
       "      <th></th>\n",
       "      <th></th>\n",
       "      <th></th>\n",
       "      <th></th>\n",
       "      <th></th>\n",
       "      <th></th>\n",
       "      <th></th>\n",
       "    </tr>\n",
       "  </thead>\n",
       "  <tbody>\n",
       "    <tr>\n",
       "      <th>6</th>\n",
       "      <td>1430287923</td>\n",
       "      <td>0</td>\n",
       "      <td>93</td>\n",
       "      <td>4</td>\n",
       "      <td>1103</td>\n",
       "      <td>1089</td>\n",
       "      <td>8</td>\n",
       "      <td>0</td>\n",
       "      <td>1</td>\n",
       "      <td>9</td>\n",
       "      <td>...</td>\n",
       "      <td>0</td>\n",
       "      <td>12</td>\n",
       "      <td>247</td>\n",
       "      <td>-86</td>\n",
       "      <td>272</td>\n",
       "      <td>3</td>\n",
       "      <td>4</td>\n",
       "      <td>2</td>\n",
       "      <td>0</td>\n",
       "      <td>118</td>\n",
       "    </tr>\n",
       "    <tr>\n",
       "      <th>7</th>\n",
       "      <td>1430293357</td>\n",
       "      <td>1</td>\n",
       "      <td>20</td>\n",
       "      <td>2</td>\n",
       "      <td>556</td>\n",
       "      <td>570</td>\n",
       "      <td>1</td>\n",
       "      <td>0</td>\n",
       "      <td>0</td>\n",
       "      <td>9</td>\n",
       "      <td>...</td>\n",
       "      <td>2</td>\n",
       "      <td>-29</td>\n",
       "      <td>168</td>\n",
       "      <td>-54</td>\n",
       "      <td>NaN</td>\n",
       "      <td>3</td>\n",
       "      <td>2</td>\n",
       "      <td>2</td>\n",
       "      <td>1</td>\n",
       "      <td>16</td>\n",
       "    </tr>\n",
       "    <tr>\n",
       "      <th>10</th>\n",
       "      <td>1430301774</td>\n",
       "      <td>1</td>\n",
       "      <td>112</td>\n",
       "      <td>2</td>\n",
       "      <td>751</td>\n",
       "      <td>808</td>\n",
       "      <td>1</td>\n",
       "      <td>0</td>\n",
       "      <td>0</td>\n",
       "      <td>13</td>\n",
       "      <td>...</td>\n",
       "      <td>1</td>\n",
       "      <td>-22</td>\n",
       "      <td>46</td>\n",
       "      <td>-87</td>\n",
       "      <td>186</td>\n",
       "      <td>1</td>\n",
       "      <td>3</td>\n",
       "      <td>3</td>\n",
       "      <td>0</td>\n",
       "      <td>-34</td>\n",
       "    </tr>\n",
       "    <tr>\n",
       "      <th>13</th>\n",
       "      <td>1430323933</td>\n",
       "      <td>1</td>\n",
       "      <td>27</td>\n",
       "      <td>3</td>\n",
       "      <td>708</td>\n",
       "      <td>903</td>\n",
       "      <td>1</td>\n",
       "      <td>1</td>\n",
       "      <td>1</td>\n",
       "      <td>11</td>\n",
       "      <td>...</td>\n",
       "      <td>2</td>\n",
       "      <td>-49</td>\n",
       "      <td>30</td>\n",
       "      <td>-89</td>\n",
       "      <td>210</td>\n",
       "      <td>3</td>\n",
       "      <td>4</td>\n",
       "      <td>2</td>\n",
       "      <td>1</td>\n",
       "      <td>-26</td>\n",
       "    </tr>\n",
       "    <tr>\n",
       "      <th>16</th>\n",
       "      <td>1430331112</td>\n",
       "      <td>1</td>\n",
       "      <td>39</td>\n",
       "      <td>4</td>\n",
       "      <td>1259</td>\n",
       "      <td>661</td>\n",
       "      <td>4</td>\n",
       "      <td>0</td>\n",
       "      <td>0</td>\n",
       "      <td>9</td>\n",
       "      <td>...</td>\n",
       "      <td>0</td>\n",
       "      <td>36</td>\n",
       "      <td>180</td>\n",
       "      <td>-86</td>\n",
       "      <td>180</td>\n",
       "      <td>1</td>\n",
       "      <td>3</td>\n",
       "      <td>2</td>\n",
       "      <td>1</td>\n",
       "      <td>-33</td>\n",
       "    </tr>\n",
       "  </tbody>\n",
       "</table>\n",
       "<p>5 rows × 102 columns</p>\n",
       "</div>"
      ],
      "text/plain": [
       "          start_time  lobby_type  r1_hero  r1_level  r1_xp  r1_gold  r1_lh  \\\n",
       "match_id                                                                     \n",
       "6         1430287923           0       93         4   1103     1089      8   \n",
       "7         1430293357           1       20         2    556      570      1   \n",
       "10        1430301774           1      112         2    751      808      1   \n",
       "13        1430323933           1       27         3    708      903      1   \n",
       "16        1430331112           1       39         4   1259      661      4   \n",
       "\n",
       "          r1_kills  r1_deaths  r1_items          ...           \\\n",
       "match_id                                         ...            \n",
       "6                0          1         9          ...            \n",
       "7                0          0         9          ...            \n",
       "10               0          0        13          ...            \n",
       "13               1          1        11          ...            \n",
       "16               0          0         9          ...            \n",
       "\n",
       "          radiant_ward_sentry_count  radiant_first_ward_time  \\\n",
       "match_id                                                       \n",
       "6                                 0                       12   \n",
       "7                                 2                      -29   \n",
       "10                                1                      -22   \n",
       "13                                2                      -49   \n",
       "16                                0                       36   \n",
       "\n",
       "          dire_bottle_time  dire_courier_time  dire_flying_courier_time  \\\n",
       "match_id                                                                  \n",
       "6                      247                -86                       272   \n",
       "7                      168                -54                       NaN   \n",
       "10                      46                -87                       186   \n",
       "13                      30                -89                       210   \n",
       "16                     180                -86                       180   \n",
       "\n",
       "          dire_tpscroll_count  dire_boots_count  dire_ward_observer_count  \\\n",
       "match_id                                                                    \n",
       "6                           3                 4                         2   \n",
       "7                           3                 2                         2   \n",
       "10                          1                 3                         3   \n",
       "13                          3                 4                         2   \n",
       "16                          1                 3                         2   \n",
       "\n",
       "          dire_ward_sentry_count  dire_first_ward_time  \n",
       "match_id                                                \n",
       "6                              0                   118  \n",
       "7                              1                    16  \n",
       "10                             0                   -34  \n",
       "13                             1                   -26  \n",
       "16                             1                   -33  \n",
       "\n",
       "[5 rows x 102 columns]"
      ]
     },
     "execution_count": 5,
     "metadata": {},
     "output_type": "execute_result"
    }
   ],
   "source": [
    "features_test.head()"
   ]
  },
  {
   "cell_type": "markdown",
   "metadata": {},
   "source": [
    "## Предобработка данных"
   ]
  },
  {
   "cell_type": "markdown",
   "metadata": {},
   "source": [
    "Количество признаков в обучающей и тестовой выборках отличается, это признаки, связанные с итогами матчей. Необходимо убрать лишние (за исключением целевой переменной - radiant_win). Также исключим переменную 'start_time', которая не несет смысловой нагрузки."
   ]
  },
  {
   "cell_type": "code",
   "execution_count": 6,
   "metadata": {
    "collapsed": false
   },
   "outputs": [
    {
     "data": {
      "text/plain": [
       "['tower_status_dire',\n",
       " 'barracks_status_dire',\n",
       " 'barracks_status_radiant',\n",
       " 'tower_status_radiant',\n",
       " 'duration',\n",
       " 'radiant_win']"
      ]
     },
     "execution_count": 6,
     "metadata": {},
     "output_type": "execute_result"
    }
   ],
   "source": [
    "# calculate column difference between training and test datasets\n",
    "col_diff = list(set(features.columns) - set(features_test.columns))\n",
    "col_diff"
   ]
  },
  {
   "cell_type": "code",
   "execution_count": 7,
   "metadata": {
    "collapsed": false
   },
   "outputs": [],
   "source": [
    "features_new = features[list(set(features.columns) - set(col_diff[0:5]))]\n",
    "features_new = features_new.drop('start_time', 1)\n",
    "features_test = features_test.drop('start_time', 1)"
   ]
  },
  {
   "cell_type": "code",
   "execution_count": 8,
   "metadata": {
    "collapsed": false
   },
   "outputs": [
    {
     "name": "stdout",
     "output_type": "stream",
     "text": [
      "<class 'pandas.core.frame.DataFrame'>\n",
      "Int64Index: 97230 entries, 0 to 114406\n",
      "Columns: 102 entries, d4_level to r1_hero\n",
      "dtypes: float64(12), int64(90)\n",
      "memory usage: 76.4 MB\n"
     ]
    }
   ],
   "source": [
    "features_new.info()"
   ]
  },
  {
   "cell_type": "code",
   "execution_count": 9,
   "metadata": {
    "collapsed": false
   },
   "outputs": [
    {
     "name": "stdout",
     "output_type": "stream",
     "text": [
      "<class 'pandas.core.frame.DataFrame'>\n",
      "Int64Index: 17177 entries, 6 to 114398\n",
      "Columns: 101 entries, lobby_type to dire_first_ward_time\n",
      "dtypes: float64(12), int64(89)\n",
      "memory usage: 13.4 MB\n"
     ]
    }
   ],
   "source": [
    "features_test.info()"
   ]
  },
  {
   "cell_type": "markdown",
   "metadata": {},
   "source": [
    "Проверим выборку на предмет наличия пропущенных значений"
   ]
  },
  {
   "cell_type": "code",
   "execution_count": 10,
   "metadata": {
    "collapsed": false
   },
   "outputs": [
    {
     "name": "stdout",
     "output_type": "stream",
     "text": [
      "dire_bottle_time               16143\n",
      "radiant_first_ward_time         1836\n",
      "radiant_flying_courier_time    27479\n",
      "dire_courier_time                676\n",
      "first_blood_team               19553\n",
      "dire_flying_courier_time       26098\n",
      "first_blood_time               19553\n",
      "dire_first_ward_time            1826\n",
      "first_blood_player1            19553\n",
      "first_blood_player2            43987\n",
      "radiant_bottle_time            15691\n",
      "radiant_courier_time             692\n",
      "dtype: int64\n"
     ]
    }
   ],
   "source": [
    "empties = len(features_new) - features_new.count()\n",
    "print empties[empties != 0]"
   ]
  },
  {
   "cell_type": "markdown",
   "metadata": {},
   "source": [
    "Как мы можем заметить 12 признаков характеризуются наличием пропусков. Возможными причинами наличия пропусков в данных могут являться:  \n",
    "1. **first_blood_time** - событие типа \"первая кровь\" не наступило (19553 записи)\n",
    "2. **first_blood_player1** - количество записей (19553) соответствует количеству пропущенных значений для признака first_blood_time, что может свидетельствовать о связи данных параметров. Вероятно, что отсутствие события типа \"первая кровь\" приводит к тому, что отсутствуют игроки команд, задействованные в этом событии."
   ]
  },
  {
   "cell_type": "code",
   "execution_count": 11,
   "metadata": {
    "collapsed": false
   },
   "outputs": [],
   "source": [
    "# fill missing values\n",
    "features_new = features_new.fillna(value = 0)"
   ]
  },
  {
   "cell_type": "code",
   "execution_count": 12,
   "metadata": {
    "collapsed": true
   },
   "outputs": [],
   "source": [
    "# split data into target variable and features\n",
    "x = features_new.drop('radiant_win', 1)\n",
    "y = features_new['radiant_win']"
   ]
  },
  {
   "cell_type": "code",
   "execution_count": 13,
   "metadata": {
    "collapsed": true
   },
   "outputs": [],
   "source": [
    "# split data into train (60 %) and test (40 %) sets\n",
    "x_train, x_test, y_train, y_test = train_test_split(x, y, test_size = 0.4, random_state = 36)"
   ]
  },
  {
   "cell_type": "code",
   "execution_count": 14,
   "metadata": {
    "collapsed": true
   },
   "outputs": [],
   "source": [
    "kf = KFold(n = len(y_train), n_folds=5, random_state=36, shuffle = True)"
   ]
  },
  {
   "cell_type": "markdown",
   "metadata": {},
   "source": [
    "## Подход 1: Градиентный бустинг "
   ]
  },
  {
   "cell_type": "markdown",
   "metadata": {},
   "source": [
    "Создадим классификатор на основе метода градиентного бустинга, и выполним поиск количества деревьев"
   ]
  },
  {
   "cell_type": "code",
   "execution_count": 15,
   "metadata": {
    "collapsed": true
   },
   "outputs": [],
   "source": [
    "clf_gb = GradientBoostingClassifier(random_state=36)"
   ]
  },
  {
   "cell_type": "code",
   "execution_count": 16,
   "metadata": {
    "collapsed": false
   },
   "outputs": [
    {
     "data": {
      "text/plain": [
       "GridSearchCV(cv=sklearn.cross_validation.KFold(n=58338, n_folds=5, shuffle=True, random_state=36),\n",
       "       error_score='raise',\n",
       "       estimator=GradientBoostingClassifier(init=None, learning_rate=0.1, loss='deviance',\n",
       "              max_depth=3, max_features=None, max_leaf_nodes=None,\n",
       "              min_samples_leaf=1, min_samples_split=2,\n",
       "              min_weight_fraction_leaf=0.0, n_estimators=100,\n",
       "              presort='auto', random_state=36, subsample=1.0, verbose=0,\n",
       "              warm_start=False),\n",
       "       fit_params={}, iid=True, n_jobs=1,\n",
       "       param_grid={'n_estimators': [10, 20, 30, 40]},\n",
       "       pre_dispatch='2*n_jobs', refit=True, scoring='roc_auc', verbose=0)"
      ]
     },
     "execution_count": 16,
     "metadata": {},
     "output_type": "execute_result"
    }
   ],
   "source": [
    "grid = {'n_estimators': [10, 20, 30, 40]}\n",
    "clf_grid = GridSearchCV(clf_gb, param_grid = grid, cv = kf, scoring = 'roc_auc')\n",
    "clf_grid.fit(x_train, y_train)"
   ]
  },
  {
   "cell_type": "markdown",
   "metadata": {},
   "source": [
    "Построим графики метрики лучшего классификатора и график зависимости метрики ROC_AUC от количества деревьев в градиентном бустинге."
   ]
  },
  {
   "cell_type": "code",
   "execution_count": 31,
   "metadata": {
    "collapsed": false
   },
   "outputs": [
    {
     "data": {
      "text/plain": [
       "{'n_estimators': 40}"
      ]
     },
     "execution_count": 31,
     "metadata": {},
     "output_type": "execute_result"
    }
   ],
   "source": [
    "clf_grid.best_params_"
   ]
  },
  {
   "cell_type": "code",
   "execution_count": 17,
   "metadata": {
    "collapsed": false
   },
   "outputs": [
    {
     "data": {
      "text/plain": [
       "<matplotlib.legend.Legend at 0x7fa4fea029d0>"
      ]
     },
     "execution_count": 17,
     "metadata": {},
     "output_type": "execute_result"
    },
    {
     "data": {
      "image/png": "[encoded data removed]",
      "text/plain": [
       "<matplotlib.figure.Figure at 0x7fa52747a210>"
      ]
     },
     "metadata": {},
     "output_type": "display_data"
    }
   ],
   "source": [
    "fpr, tpr, tresholds = roc_curve(y_train, clf_grid.decision_function(x_train))\n",
    "roc_auc = auc(fpr, tpr)\n",
    "fpr_test, tpr_test, tresholds_test = roc_curve(y_test, clf_grid.decision_function(x_test))\n",
    "roc_auc_test = auc(fpr_test, tpr_test)\n",
    "plt.figure()\n",
    "plt.plot(fpr, tpr, color = 'blue', label = 'Train data (ROC_AUC = %0.3f)' % roc_auc)\n",
    "plt.plot(fpr_test, tpr_test, color = 'red', label = 'Test data (ROC_AUC = %0.3f)' % roc_auc_test)\n",
    "plt.title('Gradient Boosting (train data)')\n",
    "plt.xlabel('False Positive')\n",
    "plt.ylabel('True Positive')\n",
    "plt.legend(loc = 'lower right')"
   ]
  },
  {
   "cell_type": "code",
   "execution_count": 18,
   "metadata": {
    "collapsed": false
   },
   "outputs": [
    {
     "data": {
      "text/plain": [
       "<matplotlib.legend.Legend at 0x7fa4fd97c2d0>"
      ]
     },
     "execution_count": 18,
     "metadata": {},
     "output_type": "execute_result"
    },
    {
     "data": {
      "image/png": "[encoded data removed]",
      "text/plain": [
       "<matplotlib.figure.Figure at 0x7fa4fee1da10>"
      ]
     },
     "metadata": {},
     "output_type": "display_data"
    }
   ],
   "source": [
    "train_scores = np.empty(len(clf_grid.best_estimator_.estimators_))\n",
    "test_scores = np.empty(len(clf_grid.best_estimator_.estimators_))\n",
    "\n",
    "for i, n in enumerate(clf_grid.best_estimator_.staged_decision_function(x_train)):\n",
    "    train_scores[i] = roc_auc_score(y_train, n)\n",
    "for i, n in enumerate(clf_grid.best_estimator_.staged_decision_function(x_test)):\n",
    "    test_scores[i] = roc_auc_score(y_test, n)\n",
    "    \n",
    "plt.figure()\n",
    "plt.plot(train_scores, color = 'blue', label = 'Train data')\n",
    "plt.plot(test_scores, color = 'red', label = 'Test data')\n",
    "plt.legend(loc = 'lower right')"
   ]
  },
  {
   "cell_type": "markdown",
   "metadata": {},
   "source": [
    "Обучение классификатора на основе градиентного бустинга с использованием различного количества решающих деревьев (10, 20, 30 и 40) продемонстрировало повышение качества работы алгоритма с увеличением количества деревьев. С учетом того, что ROC-кривая не вышла на \"плато\" увеличение количества деревьев должно привести к повышению качества классификации."
   ]
  },
  {
   "cell_type": "markdown",
   "metadata": {},
   "source": [
    "Выполним измерение времени обучения классификатора для различного количества деревьев:"
   ]
  },
  {
   "cell_type": "code",
   "execution_count": 28,
   "metadata": {
    "collapsed": false
   },
   "outputs": [
    {
     "name": "stdout",
     "output_type": "stream",
     "text": [
      "Learning time for 30 trees -  0:04:57.177012\n",
      "0.686909822976\n"
     ]
    }
   ],
   "source": [
    "clf = GradientBoostingClassifier(random_state=36, n_estimators=30)\n",
    "start_time = datetime.datetime.now()\n",
    "scores = cross_val_score(estimator = clf, X = x_train, y = y_train,\n",
    "                             scoring='roc_auc', cv = kf)\n",
    "time_delta = datetime.datetime.now() - start_time\n",
    "print 'Learning time for 30 trees - ', time_delta\n",
    "print scores.mean()"
   ]
  },
  {
   "cell_type": "markdown",
   "metadata": {
    "collapsed": true
   },
   "source": [
    "Измерения свидетельствуют о линейной зависимости времени обучения от количества деревьев в градиентном бустинге.  \n",
    "Сокращение времени обучения возможно за счет следующих действий:  \n",
    "1. поскольку обучение производилось на полном наборе данных, сокращение объема обучающих и тестовых выборок позволит повысить скорость;\n",
    "2. возможно сокращение глубины деревьев (но скорее всего это существенно скажется на качестве решения задачи, т.к. по деревья в вышеуказанном примере \"неглубокие\" - максимальная глубина деревьев - 3 узла)."
   ]
  },
  {
   "cell_type": "markdown",
   "metadata": {},
   "source": [
    "## Подход 2: Логистическая регрессия"
   ]
  },
  {
   "cell_type": "markdown",
   "metadata": {},
   "source": [
    "Линейные алгоритмы являются чуствительными к масштабу признаков, поэтому необходимо выполнить предварительную обработку данных с использованием метода StandardScaler."
   ]
  },
  {
   "cell_type": "code",
   "execution_count": 15,
   "metadata": {
    "collapsed": false
   },
   "outputs": [],
   "source": [
    "sc = StandardScaler()\n",
    "sc.fit(x)\n",
    "x_sc = pd.DataFrame(sc.transform(x))\n",
    "x_sc.columns = x.columns"
   ]
  },
  {
   "cell_type": "code",
   "execution_count": 16,
   "metadata": {
    "collapsed": false
   },
   "outputs": [],
   "source": [
    "x_train, x_test, y_train, y_test = train_test_split(x_sc, y,\n",
    "                                                    test_size = 0.4, random_state = 36)"
   ]
  },
  {
   "cell_type": "code",
   "execution_count": 17,
   "metadata": {
    "collapsed": false
   },
   "outputs": [
    {
     "data": {
      "text/plain": [
       "GridSearchCV(cv=sklearn.cross_validation.KFold(n=58338, n_folds=5, shuffle=True, random_state=36),\n",
       "       error_score='raise',\n",
       "       estimator=LogisticRegression(C=1.0, class_weight=None, dual=False, fit_intercept=True,\n",
       "          intercept_scaling=1, max_iter=100, multi_class='ovr', n_jobs=1,\n",
       "          penalty='l2', random_state=36, solver='liblinear', tol=0.0001,\n",
       "          verbose=0, warm_start=False),\n",
       "       fit_params={}, iid=True, n_jobs=1,\n",
       "       param_grid={'C': [0.0001, 0.001, 0.01, 0.1, 1.0, 10, 100, 1000, 10000]},\n",
       "       pre_dispatch='2*n_jobs', refit=True, scoring='roc_auc', verbose=0)"
      ]
     },
     "execution_count": 17,
     "metadata": {},
     "output_type": "execute_result"
    }
   ],
   "source": [
    "grid = {'C': [0.0001, 0.001, 0.01, 0.1, 1.0, 10, 100, 1000, 10000]}\n",
    "clf_lg = LogisticRegression(random_state=36)\n",
    "clf_grid_lg = GridSearchCV(clf_lg, grid, cv = kf, scoring = 'roc_auc')\n",
    "clf_grid_lg.fit(x_train, y_train)"
   ]
  },
  {
   "cell_type": "code",
   "execution_count": 18,
   "metadata": {
    "collapsed": false
   },
   "outputs": [
    {
     "data": {
      "text/plain": [
       "{'C': 0.01}"
      ]
     },
     "execution_count": 18,
     "metadata": {},
     "output_type": "execute_result"
    }
   ],
   "source": [
    "clf_grid_lg.best_params_"
   ]
  },
  {
   "cell_type": "code",
   "execution_count": 19,
   "metadata": {
    "collapsed": false
   },
   "outputs": [
    {
     "name": "stdout",
     "output_type": "stream",
     "text": [
      "Learning time for best logistic regression model -  0:00:23.400405\n",
      "0.71514160362\n"
     ]
    }
   ],
   "source": [
    "clf_temp = LogisticRegression(random_state=36, C = 0.01)\n",
    "start_time = datetime.datetime.now()\n",
    "scores = cross_val_score(estimator = clf_temp, X = x_train, y = y_train,\n",
    "                             scoring='roc_auc', cv = kf)\n",
    "time_delta = datetime.datetime.now() - start_time\n",
    "print 'Learning time for best logistic regression model - ', time_delta\n",
    "print scores.mean()"
   ]
  },
  {
   "cell_type": "code",
   "execution_count": 20,
   "metadata": {
    "collapsed": false
   },
   "outputs": [
    {
     "name": "stdout",
     "output_type": "stream",
     "text": [
      "Train data -  0.717663551748\n",
      "Test data -  0.716839763443\n"
     ]
    }
   ],
   "source": [
    "train_scores = clf_grid_lg.decision_function(x_train)\n",
    "test_scores = clf_grid_lg.decision_function(x_test)\n",
    "\n",
    "print 'Train data - ', roc_auc_score(y_train, train_scores)\n",
    "print 'Test data - ', roc_auc_score(y_test, test_scores)"
   ]
  },
  {
   "cell_type": "markdown",
   "metadata": {},
   "source": [
    "Результаты логистической регрессии превосходят градиентный бустинг"
   ]
  },
  {
   "cell_type": "markdown",
   "metadata": {},
   "source": [
    "Далее построим классификатор на выборке без категориальных переменных"
   ]
  },
  {
   "cell_type": "code",
   "execution_count": 21,
   "metadata": {
    "collapsed": true
   },
   "outputs": [],
   "source": [
    "cols = [col for col in x_sc.columns if col not in ['lobby_type', 'r1_hero', 'd1_hero',\n",
    "                                                  'r2_hero', 'd2_hero', 'r3_hero',\n",
    "                                                  'd3_hero', 'r4_hero', 'd4_hero',\n",
    "                                                  'r5_hero', 'd5_hero']]\n",
    "x_new = x_sc[cols]"
   ]
  },
  {
   "cell_type": "code",
   "execution_count": 22,
   "metadata": {
    "collapsed": false
   },
   "outputs": [
    {
     "data": {
      "text/plain": [
       "GridSearchCV(cv=sklearn.cross_validation.KFold(n=58338, n_folds=5, shuffle=True, random_state=36),\n",
       "       error_score='raise',\n",
       "       estimator=LogisticRegression(C=1.0, class_weight=None, dual=False, fit_intercept=True,\n",
       "          intercept_scaling=1, max_iter=100, multi_class='ovr', n_jobs=1,\n",
       "          penalty='l2', random_state=36, solver='liblinear', tol=0.0001,\n",
       "          verbose=0, warm_start=False),\n",
       "       fit_params={}, iid=True, n_jobs=1,\n",
       "       param_grid={'C': [0.0001, 0.001, 0.01, 0.1, 1.0, 10, 100, 1000, 10000]},\n",
       "       pre_dispatch='2*n_jobs', refit=True, scoring='roc_auc', verbose=0)"
      ]
     },
     "execution_count": 22,
     "metadata": {},
     "output_type": "execute_result"
    }
   ],
   "source": [
    "x_train, x_test, y_train, y_test = train_test_split(x_sc[cols], y, test_size = 0.4, random_state = 36)\n",
    "clf_grid_lg.fit(x_train, y_train)"
   ]
  },
  {
   "cell_type": "code",
   "execution_count": 23,
   "metadata": {
    "collapsed": false
   },
   "outputs": [
    {
     "name": "stdout",
     "output_type": "stream",
     "text": [
      "{'C': 0.01}\n",
      "Train data -  0.717376919322\n",
      "Test data -  0.717220961636\n"
     ]
    }
   ],
   "source": [
    "train_scores = clf_grid_lg.decision_function(x_train)\n",
    "test_scores = clf_grid_lg.decision_function(x_test)\n",
    "\n",
    "print clf_grid_lg.best_params_\n",
    "print 'Train data - ', roc_auc_score(y_train, train_scores)\n",
    "print 'Test data - ', roc_auc_score(y_test, test_scores)"
   ]
  },
  {
   "cell_type": "markdown",
   "metadata": {},
   "source": [
    "Качество классификации практически не изменилось, можно сделать вывод о том, что категориальные переменные не несут значимой информации."
   ]
  },
  {
   "cell_type": "code",
   "execution_count": 24,
   "metadata": {
    "collapsed": false
   },
   "outputs": [
    {
     "name": "stdout",
     "output_type": "stream",
     "text": [
      "Count of unique heroes is  108\n"
     ]
    }
   ],
   "source": [
    "cols = [col for col in x_sc.columns if col in ['r1_hero', 'd1_hero',\n",
    "                                                  'r2_hero', 'd2_hero', 'r3_hero',\n",
    "                                                  'd3_hero', 'r4_hero', 'd4_hero',\n",
    "                                                  'r5_hero', 'd5_hero']]\n",
    "identifiers = x[cols].stack()\n",
    "print 'Count of unique heroes is ', len(identifiers.unique())"
   ]
  },
  {
   "cell_type": "markdown",
   "metadata": {
    "collapsed": true
   },
   "source": [
    "Далее построим классификатор с использованием *мешка слов* для каждого из героев"
   ]
  },
  {
   "cell_type": "code",
   "execution_count": 25,
   "metadata": {
    "collapsed": false
   },
   "outputs": [],
   "source": [
    "N = identifiers.max()\n",
    "\n",
    "X_pick = np.zeros((x.shape[0], N))\n",
    "\n",
    "for i, match_id in enumerate(x.index):\n",
    "    for p in xrange(5):\n",
    "        X_pick[i, x.ix[match_id, 'r%d_hero' % (p+1)]-1] = 1\n",
    "        X_pick[i, x.ix[match_id, 'd%d_hero' % (p+1)]-1] = -1\n",
    "        \n",
    "X_pick_df = pd.DataFrame(X_pick)\n",
    "X_pick_df.columns = range(1, 113)\n",
    "cols = [col for col in X_pick_df.columns if col in identifiers.unique()]\n",
    "X_pick_df = X_pick_df[cols]\n",
    "\n",
    "x_words = pd.concat([x_new, X_pick_df], axis = 1)"
   ]
  },
  {
   "cell_type": "code",
   "execution_count": 26,
   "metadata": {
    "collapsed": false
   },
   "outputs": [
    {
     "data": {
      "text/html": [
       "<div>\n",
       "<table border=\"1\" class=\"dataframe\">\n",
       "  <thead>\n",
       "    <tr style=\"text-align: right;\">\n",
       "      <th></th>\n",
       "      <th>d4_level</th>\n",
       "      <th>d4_kills</th>\n",
       "      <th>dire_bottle_time</th>\n",
       "      <th>radiant_first_ward_time</th>\n",
       "      <th>d2_level</th>\n",
       "      <th>d5_kills</th>\n",
       "      <th>r3_xp</th>\n",
       "      <th>r1_lh</th>\n",
       "      <th>radiant_flying_courier_time</th>\n",
       "      <th>d1_gold</th>\n",
       "      <th>...</th>\n",
       "      <th>100</th>\n",
       "      <th>101</th>\n",
       "      <th>102</th>\n",
       "      <th>103</th>\n",
       "      <th>104</th>\n",
       "      <th>105</th>\n",
       "      <th>106</th>\n",
       "      <th>109</th>\n",
       "      <th>110</th>\n",
       "      <th>112</th>\n",
       "    </tr>\n",
       "  </thead>\n",
       "  <tbody>\n",
       "    <tr>\n",
       "      <th>0</th>\n",
       "      <td>-0.311205</td>\n",
       "      <td>-0.53886</td>\n",
       "      <td>-0.041743</td>\n",
       "      <td>1.066448</td>\n",
       "      <td>0.561134</td>\n",
       "      <td>0.976866</td>\n",
       "      <td>1.308568</td>\n",
       "      <td>0.969743</td>\n",
       "      <td>0.876751</td>\n",
       "      <td>-0.337650</td>\n",
       "      <td>...</td>\n",
       "      <td>0</td>\n",
       "      <td>0</td>\n",
       "      <td>0</td>\n",
       "      <td>0</td>\n",
       "      <td>0</td>\n",
       "      <td>1</td>\n",
       "      <td>0</td>\n",
       "      <td>0</td>\n",
       "      <td>0</td>\n",
       "      <td>0</td>\n",
       "    </tr>\n",
       "    <tr>\n",
       "      <th>1</th>\n",
       "      <td>-1.232681</td>\n",
       "      <td>-0.53886</td>\n",
       "      <td>0.578946</td>\n",
       "      <td>-0.338591</td>\n",
       "      <td>-0.357152</td>\n",
       "      <td>-0.540155</td>\n",
       "      <td>0.582307</td>\n",
       "      <td>-0.246859</td>\n",
       "      <td>-1.525446</td>\n",
       "      <td>0.507465</td>\n",
       "      <td>...</td>\n",
       "      <td>0</td>\n",
       "      <td>0</td>\n",
       "      <td>0</td>\n",
       "      <td>0</td>\n",
       "      <td>0</td>\n",
       "      <td>0</td>\n",
       "      <td>0</td>\n",
       "      <td>0</td>\n",
       "      <td>0</td>\n",
       "      <td>0</td>\n",
       "    </tr>\n",
       "    <tr>\n",
       "      <th>2</th>\n",
       "      <td>0.610270</td>\n",
       "      <td>-0.53886</td>\n",
       "      <td>-0.824352</td>\n",
       "      <td>-0.823968</td>\n",
       "      <td>-0.357152</td>\n",
       "      <td>-0.540155</td>\n",
       "      <td>0.205660</td>\n",
       "      <td>1.190944</td>\n",
       "      <td>-1.525446</td>\n",
       "      <td>1.910183</td>\n",
       "      <td>...</td>\n",
       "      <td>0</td>\n",
       "      <td>0</td>\n",
       "      <td>0</td>\n",
       "      <td>0</td>\n",
       "      <td>0</td>\n",
       "      <td>0</td>\n",
       "      <td>0</td>\n",
       "      <td>0</td>\n",
       "      <td>0</td>\n",
       "      <td>0</td>\n",
       "    </tr>\n",
       "    <tr>\n",
       "      <th>3</th>\n",
       "      <td>-1.232681</td>\n",
       "      <td>-0.53886</td>\n",
       "      <td>0.241615</td>\n",
       "      <td>-0.594053</td>\n",
       "      <td>-0.357152</td>\n",
       "      <td>-0.540155</td>\n",
       "      <td>1.539241</td>\n",
       "      <td>0.306142</td>\n",
       "      <td>-1.525446</td>\n",
       "      <td>0.050057</td>\n",
       "      <td>...</td>\n",
       "      <td>0</td>\n",
       "      <td>0</td>\n",
       "      <td>-1</td>\n",
       "      <td>0</td>\n",
       "      <td>0</td>\n",
       "      <td>0</td>\n",
       "      <td>0</td>\n",
       "      <td>0</td>\n",
       "      <td>0</td>\n",
       "      <td>0</td>\n",
       "    </tr>\n",
       "    <tr>\n",
       "      <th>4</th>\n",
       "      <td>1.531746</td>\n",
       "      <td>-0.53886</td>\n",
       "      <td>1.024223</td>\n",
       "      <td>1.347455</td>\n",
       "      <td>-0.357152</td>\n",
       "      <td>-0.540155</td>\n",
       "      <td>-0.538623</td>\n",
       "      <td>-0.357459</td>\n",
       "      <td>0.256512</td>\n",
       "      <td>-1.230685</td>\n",
       "      <td>...</td>\n",
       "      <td>0</td>\n",
       "      <td>0</td>\n",
       "      <td>0</td>\n",
       "      <td>0</td>\n",
       "      <td>0</td>\n",
       "      <td>0</td>\n",
       "      <td>0</td>\n",
       "      <td>0</td>\n",
       "      <td>0</td>\n",
       "      <td>0</td>\n",
       "    </tr>\n",
       "  </tbody>\n",
       "</table>\n",
       "<p>5 rows × 198 columns</p>\n",
       "</div>"
      ],
      "text/plain": [
       "   d4_level  d4_kills  dire_bottle_time  radiant_first_ward_time  d2_level  \\\n",
       "0 -0.311205  -0.53886         -0.041743                 1.066448  0.561134   \n",
       "1 -1.232681  -0.53886          0.578946                -0.338591 -0.357152   \n",
       "2  0.610270  -0.53886         -0.824352                -0.823968 -0.357152   \n",
       "3 -1.232681  -0.53886          0.241615                -0.594053 -0.357152   \n",
       "4  1.531746  -0.53886          1.024223                 1.347455 -0.357152   \n",
       "\n",
       "   d5_kills     r3_xp     r1_lh  radiant_flying_courier_time   d1_gold ...   \\\n",
       "0  0.976866  1.308568  0.969743                     0.876751 -0.337650 ...    \n",
       "1 -0.540155  0.582307 -0.246859                    -1.525446  0.507465 ...    \n",
       "2 -0.540155  0.205660  1.190944                    -1.525446  1.910183 ...    \n",
       "3 -0.540155  1.539241  0.306142                    -1.525446  0.050057 ...    \n",
       "4 -0.540155 -0.538623 -0.357459                     0.256512 -1.230685 ...    \n",
       "\n",
       "   100  101  102  103  104  105  106  109  110  112  \n",
       "0    0    0    0    0    0    1    0    0    0    0  \n",
       "1    0    0    0    0    0    0    0    0    0    0  \n",
       "2    0    0    0    0    0    0    0    0    0    0  \n",
       "3    0    0   -1    0    0    0    0    0    0    0  \n",
       "4    0    0    0    0    0    0    0    0    0    0  \n",
       "\n",
       "[5 rows x 198 columns]"
      ]
     },
     "execution_count": 26,
     "metadata": {},
     "output_type": "execute_result"
    }
   ],
   "source": [
    "x_words.head()"
   ]
  },
  {
   "cell_type": "code",
   "execution_count": 27,
   "metadata": {
    "collapsed": false
   },
   "outputs": [
    {
     "name": "stdout",
     "output_type": "stream",
     "text": [
      "{'C': 0.1}\n",
      "0.753921132719\n",
      "0.752639155895\n"
     ]
    }
   ],
   "source": [
    "x_train, x_test, y_train, y_test = train_test_split(x_words, \n",
    "                                                    y,\n",
    "                                                    test_size = 0.4, \n",
    "                                                    random_state = 36)\n",
    "\n",
    "clf_grid_lg.fit(x_train, y_train)\n",
    "\n",
    "train_score = clf_grid_lg.decision_function(x_train)\n",
    "test_score = clf_grid_lg.decision_function(x_test)\n",
    "\n",
    "print clf_grid_lg.best_params_\n",
    "print roc_auc_score(y_train, train_score)\n",
    "print roc_auc_score(y_test, test_score)"
   ]
  },
  {
   "cell_type": "markdown",
   "metadata": {},
   "source": [
    "Качество классификации с использованием *мешка слов* существенно выше чем на исходном пространстве признаков."
   ]
  },
  {
   "cell_type": "markdown",
   "metadata": {},
   "source": [
    "## Классификация на тестовых данных"
   ]
  },
  {
   "cell_type": "code",
   "execution_count": 32,
   "metadata": {
    "collapsed": false
   },
   "outputs": [],
   "source": [
    "features_test = features_test.fillna(value=0)\n",
    "\n",
    "NN = len(features_test)\n",
    "x_pick_test = np.zeros((NN, N))\n",
    "\n",
    "for i, match_id in enumerate(features_test.index):\n",
    "    for p in xrange(5):\n",
    "        x_pick_test[i, features_test.ix[match_id, 'r%d_hero' % (p+1)]-1] = 1\n",
    "        x_pick_test[i, features_test.ix[match_id, 'd%d_hero' % (p+1)]-1] = -1\n",
    "\n",
    "x_pick_test_df = pd.DataFrame(x_pick_test)\n",
    "x_pick_test_df.columns = range(1, 113)\n",
    "cols = [col for col in x_pick_test_df.columns if col in identifiers.unique()]\n",
    "\n",
    "x_pick_test_df = x_pick_test_df[cols]\n",
    "\n",
    "cols = [col for col in features_test.columns if col not in ['duration', \n",
    "                                                       'tower_status_radiant', \n",
    "                                                       'tower_status_dire', \n",
    "                                                       'barracks_status_radiant',\n",
    "                                                       'barracks_status_dire']]\n",
    "\n",
    "sc2 = StandardScaler()\n",
    "sc2.fit(features_test)\n",
    "x_sc_1 = pd.DataFrame(sc2.transform(features_test[cols]))\n",
    "x_sc_1.columns = features_test[cols].columns\n",
    "cols = [col for col in features_test.columns if col not in ['duration', \n",
    "                                                       'tower_status_radiant', \n",
    "                                                       'tower_status_dire', \n",
    "                                                       'barracks_status_radiant',\n",
    "                                                       'barracks_status_dire',\n",
    "                                                       'r1_hero', 'd1_hero', \n",
    "                                                       'r2_hero', 'd2_hero', \n",
    "                                                       'r3_hero', 'd3_hero', \n",
    "                                                       'r4_hero', 'd4_hero', \n",
    "                                                       'r5_hero', 'd5_hero',\n",
    "                                                            'lobby_type']]\n",
    "\n",
    "x_words_test = pd.concat([x_sc_1[cols], x_pick_test_df], axis = 1)"
   ]
  },
  {
   "cell_type": "code",
   "execution_count": 33,
   "metadata": {
    "collapsed": false
   },
   "outputs": [
    {
     "name": "stdout",
     "output_type": "stream",
     "text": [
      "Min probability: 0.0157714621531\n",
      "Max probability: 0.996437560431\n"
     ]
    }
   ],
   "source": [
    "res = clf_grid_lg.best_estimator_.predict_proba(x_words_test)\n",
    "fin = pd.DataFrame(zip(features_test.index, res[:, 1]))\n",
    "fin.columns = ['match_id', 'radiant_win']\n",
    "\n",
    "print 'Min probability:', str(min(fin['radiant_win']))\n",
    "print 'Max probability:', str(max(fin['radiant_win']))"
   ]
  },
  {
   "cell_type": "code",
   "execution_count": null,
   "metadata": {
    "collapsed": true
   },
   "outputs": [],
   "source": []
  }
 ],
 "metadata": {
  "kernelspec": {
   "display_name": "Python 2",
   "language": "python",
   "name": "python2"
  },
  "language_info": {
   "codemirror_mode": {
    "name": "ipython",
    "version": 2
   },
   "file_extension": ".py",
   "mimetype": "text/x-python",
   "name": "python",
   "nbconvert_exporter": "python",
   "pygments_lexer": "ipython2",
   "version": "2.7.6"
  }
 },
 "nbformat": 4,
 "nbformat_minor": 0
}
